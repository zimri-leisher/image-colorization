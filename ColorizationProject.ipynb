{
  "nbformat": 4,
  "nbformat_minor": 0,
  "metadata": {
    "colab": {
      "name": "ColorizationProject.ipynb",
      "provenance": []
    },
    "kernelspec": {
      "name": "python3",
      "display_name": "Python 3"
    },
    "language_info": {
      "name": "python"
    }
  },
  "cells": [
    {
      "cell_type": "markdown",
      "metadata": {
        "id": "Kh1FWPKdInwv"
      },
      "source": [
        "To do:\n",
        "* want to download the data to this google colab notebook\n",
        "* want to load the data in Pandas dataframe somehow\n",
        "* want to create function that returns the x,y for train, test, validation"
      ]
    },
    {
      "cell_type": "code",
      "metadata": {
        "colab": {
          "base_uri": "https://localhost:8080/"
        },
        "id": "Ru0xBSUeLkHR",
        "outputId": "150c5280-1b82-45da-e4d7-67b12ce86154"
      },
      "source": [
        "# create api key folder, download fruits360 dataset (https://www.kaggle.com/moltean/fruits), unzip to fruits dir\n",
        "\n",
        "! mkdir ~/.kaggle\n",
        "! cp kaggle.json ~/.kaggle/\n",
        "! chmod 600 ~/.kaggle/kaggle.json\n",
        "! kaggle datasets download -d moltean/fruits\n",
        "\n",
        "# unzip the data file\n",
        "import zipfile\n",
        "with zipfile.ZipFile(\"fruits.zip\", 'r') as zip_ref:\n",
        "    zip_ref.extractall(\"fruits\")"
      ],
      "execution_count": null,
      "outputs": [
        {
          "output_type": "stream",
          "name": "stdout",
          "text": [
            "mkdir: cannot create directory ‘/root/.kaggle’: File exists\n",
            "Downloading fruits.zip to /content\n",
            " 99% 1.27G/1.28G [00:10<00:00, 127MB/s]\n",
            "100% 1.28G/1.28G [00:10<00:00, 136MB/s]\n"
          ]
        }
      ]
    },
    {
      "cell_type": "code",
      "metadata": {
        "colab": {
          "base_uri": "https://localhost:8080/"
        },
        "id": "uLF5hBSBPWtt",
        "outputId": "505b750d-67bf-4d11-cac2-71582e6d8bce"
      },
      "source": [
        "import numpy as np\n",
        "import pandas as pd\n",
        "import matplotlib.pyplot as plt\n",
        "import seaborn as sns\n",
        "import glob\n",
        "import cv2\n",
        "import os\n",
        "\n",
        "np.random.seed(1234)\n",
        "\n",
        "def get_fruit360_data(directory, types):\n",
        "  X = []\n",
        "  Y = []\n",
        "  for t in types:\n",
        "    path = os.path.join(directory, t)\n",
        "    for image in os.listdir(path):\n",
        "      X.append(cv2.cvtColor(cv2.imread(os.path.join(path, image), cv2.IMREAD_GRAYSCALE), cv2.COLOR_BGR2RGB)) \n",
        "      # cv2 reads in BGR, so convert to RGB\n",
        "      Y.append(cv2.cvtColor(cv2.imread(os.path.join(path, image)), cv2.COLOR_BGR2RGB)) \n",
        "      # inefficient because we're reading twice but whatever\n",
        "  return np.array(X), np.array(Y)\n",
        "\n",
        "X, Y = get_fruit360_data(\"fruits/fruits-360_dataset/fruits-360/Training/\", [\"Avocado\"])\n",
        "print(X.shape, Y.shape)\n",
        "# do we need to flatten these? probably"
      ],
      "execution_count": null,
      "outputs": [
        {
          "output_type": "stream",
          "name": "stdout",
          "text": [
            "(427, 100, 100, 3) (427, 100, 100, 3)\n"
          ]
        }
      ]
    }
  ]
}